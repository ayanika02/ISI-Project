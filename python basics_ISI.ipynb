{
 "cells": [
  {
   "cell_type": "markdown",
   "metadata": {
    "id": "epNv3v8FRrgB"
   },
   "source": [
    "## 1) Python Tutorial With Google Colab"
   ]
  },
  {
   "cell_type": "markdown",
   "metadata": {
    "id": "LS42_JYnRrgG"
   },
   "source": [
    "<p><h2>1.1) Characteristics of Python</h2></p>\n",
    "<p>Python is a great general-purpose programming language on its own, but with the help of a few popular libraries (numpy, scipy, matplotlib) it becomes a powerful environment for scientific computing.\n",
    "<p>\n",
    "a) Easy to learn, powerful programming language<br>\n",
    "b) Efficient high-level data structures <br>\n",
    "c) Simple but effective approach to object-oriented programming<br>\n",
    "d) Extensive standard libraries: freely available and open source<br>\n",
    "e) Easy integration of C and C++ codes\n",
    "</p>\n",
    "</p>"
   ]
  },
  {
   "cell_type": "markdown",
   "metadata": {
    "id": "htJ_WNoYRrgI"
   },
   "source": [
    "<p><h3>1.2) Choosing Suitable Python Version</h3></p>\n",
    "\n",
    "<p>Two major versions of python are (https://www.python.org/)<br>\n",
    "a) Python 2.# <br>\n",
    "b) Python 3.# <br>\n",
    "</p>\n",
    "\n",
    "Python has [officially dropped support] (https://www.python.org/doc/sunset-python-2/) for `python 2`. We'll be using `python 3.7` for this iteration of the course.\n",
    "\n",
    "You can check your Python version at the command line by running `!python --version`. Note that Colab uses `Python 3.7.13` which should run everything without any errors."
   ]
  },
  {
   "cell_type": "markdown",
   "metadata": {
    "id": "ew3-5z-wRrgI"
   },
   "source": [
    "<h3>1.3) Popular Python Editors</h3>\n",
    "<p>\n",
    "a) Jupyter Notebook (https://jupyter.org/)<br>\n",
    "b) Google Colab (cloud based online notebook)<br>\n",
    "c) Spyder (https://spyder-ide.github.io/)<br>\n",
    "d) PyCharm (https://www.jetbrains.com/pycharm/)\n",
    "</p>"
   ]
  },
  {
   "cell_type": "markdown",
   "metadata": {
    "id": "3N9bGFsnRrgM"
   },
   "source": [
    "## 2) Printing and Commenting"
   ]
  },
  {
   "cell_type": "code",
   "execution_count": 1,
   "metadata": {
    "colab": {
     "base_uri": "https://localhost:8080/"
    },
    "id": "Vd8qImjnRrgN",
    "outputId": "1d48b630-ddbe-4083-e4a9-14357ae3cb10"
   },
   "outputs": [
    {
     "name": "stdout",
     "output_type": "stream",
     "text": [
      "['Hello', 'World', 'IDEAS']\n",
      "IDEAS\n"
     ]
    }
   ],
   "source": [
    "print(['Hello', 'World',\"IDEAS\"], sep=\",\")\n",
    "print(\"IDEAS\")"
   ]
  },
  {
   "cell_type": "markdown",
   "metadata": {
    "id": "S-1QvIKIWmLT"
   },
   "source": [
    "Comments can be used to explain Python code.\n",
    "\n",
    "Comments can be used to make the code more readable.\n",
    "\n",
    "Comments can be used to prevent execution when testing code."
   ]
  },
  {
   "cell_type": "code",
   "execution_count": null,
   "metadata": {
    "colab": {
     "base_uri": "https://localhost:8080/"
    },
    "id": "siRmFy-ORrgO",
    "outputId": "902ee0f2-d541-4ddb-8a46-9d551a8734ac"
   },
   "outputs": [
    {
     "name": "stdout",
     "output_type": "stream",
     "text": [
      "Hello World 2\n"
     ]
    }
   ],
   "source": [
    "# print('Hello World 1')\n",
    "\n",
    "print('Hello World 2')"
   ]
  },
  {
   "cell_type": "markdown",
   "metadata": {
    "id": "zla2bmuhRrgP"
   },
   "source": [
    "## 3) Data types in python\n",
    "<p>\n",
    "a) Integers <br>\n",
    "b) Floats <br>\n",
    "c) Boolean<br>\n",
    "d) Complex Numbers<br>\n",
    "e) Strings\n",
    "</p>"
   ]
  },
  {
   "cell_type": "code",
   "execution_count": null,
   "metadata": {
    "colab": {
     "base_uri": "https://localhost:8080/"
    },
    "id": "n05TiuIpRrgP",
    "outputId": "08f27b12-231e-4f44-854c-b1050c171e31"
   },
   "outputs": [
    {
     "name": "stdout",
     "output_type": "stream",
     "text": [
      "5\n",
      "<class 'int'>\n"
     ]
    }
   ],
   "source": [
    "# 1. Integers\n",
    "\n",
    "i = 5\n",
    "print(i)\n",
    "print(type(i))"
   ]
  },
  {
   "cell_type": "code",
   "execution_count": null,
   "metadata": {
    "colab": {
     "base_uri": "https://localhost:8080/"
    },
    "id": "9R6E_EJzRrgQ",
    "outputId": "ba3884fe-b886-4491-9ea0-87cc4f543940"
   },
   "outputs": [
    {
     "name": "stdout",
     "output_type": "stream",
     "text": [
      "4.3\n",
      "<class 'float'>\n"
     ]
    }
   ],
   "source": [
    "# 2. Floats\n",
    "\n",
    "f = 4.3\n",
    "print(f)\n",
    "print(type(f))"
   ]
  },
  {
   "cell_type": "code",
   "execution_count": null,
   "metadata": {
    "colab": {
     "base_uri": "https://localhost:8080/"
    },
    "id": "uNfN6sUJRrgQ",
    "outputId": "4d7daff0-38cc-4879-d624-9c209096d2c0"
   },
   "outputs": [
    {
     "name": "stdout",
     "output_type": "stream",
     "text": [
      "(2.4+3.4j)\n",
      "(2+3j)\n",
      "<class 'complex'> <class 'complex'>\n",
      "\n",
      "\n",
      "2.4\n",
      "3.4\n"
     ]
    }
   ],
   "source": [
    "# 3. Complex Numbers\n",
    "\n",
    "c1 = 2.4 + 3.4j\n",
    "c2 = complex(2,3)\n",
    "print(c1)\n",
    "print(c2)\n",
    "print(type(c1), type(c2))\n",
    "\n",
    "print('\\n')\n",
    "print(c1.real)\n",
    "print(c1.imag)"
   ]
  },
  {
   "cell_type": "code",
   "execution_count": null,
   "metadata": {
    "id": "IQ6v8s5IOi-J"
   },
   "outputs": [],
   "source": []
  },
  {
   "cell_type": "code",
   "execution_count": null,
   "metadata": {
    "colab": {
     "base_uri": "https://localhost:8080/"
    },
    "id": "UEd8KM6RRrgT",
    "outputId": "7adfdf90-d531-404d-eae3-95dd155298eb"
   },
   "outputs": [
    {
     "name": "stdout",
     "output_type": "stream",
     "text": [
      "<class 'bool'>\n",
      "<class 'bool'>\n"
     ]
    }
   ],
   "source": [
    "# 4. Boolean\n",
    "\n",
    "t = True\n",
    "f = False\n",
    "# print(t)\n",
    "# print(f)\n",
    "print(type(t))\n",
    "print(type(f))"
   ]
  },
  {
   "cell_type": "code",
   "execution_count": null,
   "metadata": {
    "colab": {
     "base_uri": "https://localhost:8080/"
    },
    "id": "QaTYmthJRrgU",
    "outputId": "0ef575a7-d4c6-4008-e711-362bfb1b4b63"
   },
   "outputs": [
    {
     "name": "stdout",
     "output_type": "stream",
     "text": [
      "hello 5\n",
      "world 5\n"
     ]
    }
   ],
   "source": [
    "# 5. Strings:\n",
    "\n",
    "string1 = 'hello'   # String literals can use single quotes\n",
    "string2 = \"world\"   # or double quotes; it does not matter\n",
    "print(string1, len(string1))\n",
    "print(string2, len(string2))"
   ]
  },
  {
   "cell_type": "markdown",
   "metadata": {
    "id": "WWiKKAGkRrgW"
   },
   "source": [
    "## 4) Data type conversion\n"
   ]
  },
  {
   "cell_type": "code",
   "execution_count": null,
   "metadata": {
    "colab": {
     "base_uri": "https://localhost:8080/"
    },
    "id": "D60OVkQsRrgW",
    "outputId": "89b34d91-53ae-4a21-8478-e41772096b6e"
   },
   "outputs": [
    {
     "name": "stdout",
     "output_type": "stream",
     "text": [
      "5 <class 'int'>\n",
      "5.4 <class 'float'>\n"
     ]
    }
   ],
   "source": [
    "ip=5.4\n",
    "# fp=int(ip)\n",
    "# converting to integers\n",
    "print(int(ip), type(int(ip)))\n",
    "# converting to floats\n",
    "print(float(ip), type(float(ip)))"
   ]
  },
  {
   "cell_type": "code",
   "execution_count": null,
   "metadata": {
    "colab": {
     "base_uri": "https://localhost:8080/"
    },
    "id": "12bmVFMrRrgX",
    "outputId": "19839318-e402-453a-f98c-c4b998e2f583"
   },
   "outputs": [
    {
     "name": "stdout",
     "output_type": "stream",
     "text": [
      "10 <class 'int'>\n",
      "10 <class 'str'>\n",
      "0.5 <class 'float'>\n",
      "0.5 <class 'str'>\n",
      "(100+2j) <class 'complex'>\n"
     ]
    }
   ],
   "source": [
    "# conversions to strings\n",
    "\n",
    "i = 10\n",
    "print(i, type(i))\n",
    "print(str(i), type(str(i)))\n",
    "\n",
    "f = 0.5\n",
    "print(f, type(f))\n",
    "print(str(f), type(str(f)))\n",
    "\n",
    "s3 = '100+2j'\n",
    "print(complex(s3), type(complex(s3)))"
   ]
  },
  {
   "cell_type": "code",
   "execution_count": null,
   "metadata": {
    "colab": {
     "base_uri": "https://localhost:8080/"
    },
    "id": "zuWUWBrmRrgY",
    "outputId": "1402ad97-3cee-419f-843f-a318b12cd336"
   },
   "outputs": [
    {
     "name": "stdout",
     "output_type": "stream",
     "text": [
      "False\n",
      "True\n",
      "True\n"
     ]
    }
   ],
   "source": [
    "# Zero is False, non-zeros values are True\n",
    "\n",
    "print(bool(0))\n",
    "print(bool(100))\n",
    "print(bool(-100))"
   ]
  },
  {
   "cell_type": "code",
   "execution_count": null,
   "metadata": {
    "colab": {
     "base_uri": "https://localhost:8080/"
    },
    "id": "8Sdge3fDbgnM",
    "outputId": "1e230598-2d2e-48dd-9765-64c56ba483e4"
   },
   "outputs": [
    {
     "name": "stdout",
     "output_type": "stream",
     "text": [
      "Hello\n",
      "HELLO\n",
      "  hello\n",
      " hello \n",
      "he(ell)(ell)o\n"
     ]
    }
   ],
   "source": [
    "s = \"hello\"\n",
    "print(s.capitalize())  # Capitalize a string\n",
    "print(s.upper())       # Convert a string to uppercase; prints \"HELLO\"\n",
    "print(s.rjust(7))      # Right-justify a string, padding with spaces\n",
    "print(s.center(7))     # Center a string, padding with spaces\n",
    "print(s.replace('l', '(ell)'))  # Replace all instances of one substring with another"
   ]
  },
  {
   "cell_type": "markdown",
   "metadata": {
    "id": "T829LNK0b4vb"
   },
   "source": [
    "You can find a list of all string methods in the (https://docs.python.org/3.7/library/stdtypes.html#string-methods)."
   ]
  },
  {
   "cell_type": "code",
   "execution_count": null,
   "metadata": {
    "id": "4lmZQNs1oNcO"
   },
   "outputs": [],
   "source": []
  },
  {
   "cell_type": "markdown",
   "metadata": {
    "id": "WALPd6wGRrgZ"
   },
   "source": [
    "<p><h2>5) Operators in python</h2></p>\n",
    "<p >\n",
    "a) Arithmetic operators <br>\n",
    "b) Assignments operators <br>\n",
    "c) Relational operators <br>\n",
    "d) Logical operators <br>\n",
    "e) Bitwise operators <br>\n",
    "f) Membership operators <br>\n",
    "g) Identity operators\n",
    "</p>"
   ]
  },
  {
   "cell_type": "markdown",
   "metadata": {
    "id": "FAdQvXMHRrgZ"
   },
   "source": [
    "## 5.1) Arithmetic operators\n"
   ]
  },
  {
   "cell_type": "code",
   "execution_count": null,
   "metadata": {
    "colab": {
     "base_uri": "https://localhost:8080/"
    },
    "id": "d9H_3wr6RrgZ",
    "outputId": "53a7a0e4-e3e3-4e9a-846a-08cf8b09af7d"
   },
   "outputs": [
    {
     "name": "stdout",
     "output_type": "stream",
     "text": [
      "Add 7.5\n",
      "Subtract 1.5\n",
      "Multiply 13.5\n",
      "Division 1.5\n",
      "Remainder (Division) 1\n",
      "Floor Division 1.0\n",
      "\n",
      "\n",
      "Exponentiation 20.25\n",
      "Exponentiation 2.1213203435596424\n",
      "Exponentiation 0.04938271604938271\n"
     ]
    }
   ],
   "source": [
    "# Arithmetic Operators\n",
    "\n",
    "n1 = 4.5\n",
    "n2 = 3\n",
    "\n",
    "print('Add', n1 + n2)\n",
    "print('Subtract',n1 - n2)\n",
    "print('Multiply',n1 * n2)\n",
    "print('Division',n1 / n2)\n",
    "print('Remainder (Division)',4 % n2)\n",
    "print('Floor Division',n1 // n2)\n",
    "\n",
    "print('\\n')\n",
    "print('Exponentiation',n1 ** 2)\n",
    "print('Exponentiation',n1 ** 0.5)\n",
    "print('Exponentiation',n1 ** -2)"
   ]
  },
  {
   "cell_type": "markdown",
   "metadata": {
    "id": "AsyqgYd2Rrga"
   },
   "source": [
    "## 5.2) Assignment operators"
   ]
  },
  {
   "cell_type": "code",
   "execution_count": null,
   "metadata": {
    "colab": {
     "base_uri": "https://localhost:8080/"
    },
    "id": "tmWrRxkERrga",
    "outputId": "b04c975d-66d1-4fe3-8b22-fca8233d8200"
   },
   "outputs": [
    {
     "name": "stdout",
     "output_type": "stream",
     "text": [
      "16\n",
      "10\n",
      "60\n",
      "10.0\n",
      "4.0\n",
      "1\n",
      "1\n"
     ]
    }
   ],
   "source": [
    "# Assignment Operators\n",
    "\n",
    "n3 = 10\n",
    "n4 = 6\n",
    "\n",
    "n3, n4 = 10, 6\n",
    "\n",
    "n3 += n4 # n3 = n3 + n4\n",
    "print(n3)\n",
    "n3 -= n4 # n3 = n3 - n4\n",
    "print(n3)\n",
    "n3 *= n4 # n3 = n3 * n4\n",
    "print(n3)\n",
    "n3 /= n4 # n3 = n3 / n4\n",
    "print(n3)\n",
    "n3 %= n4 # n3 = n3 % n4\n",
    "print(n3)\n",
    "\n",
    "n3 = 10\n",
    "\n",
    "n3 //= n4 # n3 = n3 // n4 #Floor division\n",
    "print(n3)\n",
    "n3 **= n4 # n3 = n3 ** n4 #Exponentiation\n",
    "print(n3)\n"
   ]
  },
  {
   "cell_type": "code",
   "execution_count": null,
   "metadata": {
    "colab": {
     "base_uri": "https://localhost:8080/",
     "height": 142
    },
    "id": "76CFwpa9drZd",
    "outputId": "180a7697-3b33-4e1c-c9d3-54e273536a46"
   },
   "outputs": [
    {
     "ename": "SyntaxError",
     "evalue": "ignored",
     "output_type": "error",
     "traceback": [
      "\u001b[0;36m  File \u001b[0;32m\"<ipython-input-14-a2acaf4a95c2>\"\u001b[0;36m, line \u001b[0;32m3\u001b[0m\n\u001b[0;31m    print(x++)\u001b[0m\n\u001b[0m             ^\u001b[0m\n\u001b[0;31mSyntaxError\u001b[0m\u001b[0;31m:\u001b[0m invalid syntax\n"
     ]
    }
   ],
   "source": [
    "x=7\n",
    "# print(x)\n",
    "print(x++)"
   ]
  },
  {
   "cell_type": "markdown",
   "metadata": {
    "id": "hKqyBHqydnW3"
   },
   "source": [
    "Note that unlike many languages, Python does not have unary increment (x++) or decrement (x--) operators."
   ]
  },
  {
   "cell_type": "markdown",
   "metadata": {
    "id": "F1cOjn3RRrga"
   },
   "source": [
    "## 5.3) Relational operators"
   ]
  },
  {
   "cell_type": "code",
   "execution_count": null,
   "metadata": {
    "colab": {
     "base_uri": "https://localhost:8080/"
    },
    "id": "aEFSniqIRrga",
    "outputId": "b826372f-abc5-4ee1-abd6-efbb68be6431"
   },
   "outputs": [
    {
     "name": "stdout",
     "output_type": "stream",
     "text": [
      "False\n",
      "True\n",
      "False\n",
      "True\n",
      "False\n",
      "True\n"
     ]
    }
   ],
   "source": [
    "# Relational Operators\n",
    "\n",
    "n1 = 10\n",
    "n2 = 16\n",
    "\n",
    "print(n1 == n2)\n",
    "print(n1 != n2)\n",
    "print(n1 > n2)\n",
    "print(n1 < n2)\n",
    "print(n1 >= n2)\n",
    "print(n1 <= n2)"
   ]
  },
  {
   "cell_type": "markdown",
   "metadata": {
    "id": "KV8Aam7nRrgb"
   },
   "source": [
    "## 5.4) Logical operators"
   ]
  },
  {
   "cell_type": "code",
   "execution_count": null,
   "metadata": {
    "colab": {
     "base_uri": "https://localhost:8080/"
    },
    "id": "ckymIZtNRrgb",
    "outputId": "46c46e21-db16-438d-aeed-90b08eb5a7a6"
   },
   "outputs": [
    {
     "name": "stdout",
     "output_type": "stream",
     "text": [
      "False\n",
      "False\n",
      "True\n",
      "2\n",
      "1\n"
     ]
    }
   ],
   "source": [
    "# Logical Operators\n",
    "\n",
    "b1 = True\n",
    "b2 = False\n",
    "\n",
    "print(not b1)\n",
    "print(b1 and b2)\n",
    "print(b1 or b2)\n",
    "\n",
    "print(2 or 1)\n",
    "print(0 or 1)"
   ]
  },
  {
   "cell_type": "code",
   "execution_count": null,
   "metadata": {
    "colab": {
     "base_uri": "https://localhost:8080/"
    },
    "id": "SKhWNwLUs1Yd",
    "outputId": "442aa1d6-617e-4a04-c9e2-b45c1c35e24f"
   },
   "outputs": [
    {
     "name": "stdout",
     "output_type": "stream",
     "text": [
      "0\n",
      "0\n"
     ]
    }
   ],
   "source": [
    "print(0 and 1 and 5)\n",
    "print(0 and 1 or 0)"
   ]
  },
  {
   "cell_type": "markdown",
   "metadata": {
    "id": "rEpFB0xsRrgb"
   },
   "source": [
    "<b>Exercise 1:</b> Take four numbers as input. <br>\n",
    "Display whether the sum of the first two numbers is greater than or equal to the sum of the latter two numbers"
   ]
  },
  {
   "cell_type": "markdown",
   "metadata": {
    "id": "3Tt7b1nzRO9M"
   },
   "source": [
    "## 5.5) Bitwise operators in Python\n",
    "\n",
    "In Python, bitwise operators are used to perform bitwise calculations on integers. The integers are first converted into binary and then operations are performed on each bit or corresponding pair of bits, hence the name bitwise operators. The result is then returned in decimal format."
   ]
  },
  {
   "cell_type": "markdown",
   "metadata": {
    "id": "a02VavmbRil1"
   },
   "source": [
    "Bitwise AND operator Returns 1 if both the bits are 1 else 0.\n",
    "\n",
    "**Example:**\n",
    "\n",
    "a = 10 = 1010 (Binary)\n",
    "b = 4 =  0100 (Binary)\n",
    "\n",
    "a & b = 1010\n",
    "         &\n",
    "        0100\n",
    "      = 0000\n",
    "      = 0 (Decimal)\n",
    "Bitwise or operator Returns 1 if either of the bit is 1 else 0.\n",
    "\n",
    "**Example:**\n",
    "\n",
    "a = 10 = 1010 (Binary)\n",
    "b = 4 =  0100 (Binary)\n",
    "\n",
    "a | b = 1010\n",
    "         |\n",
    "        0100\n",
    "      = 1110\n",
    "      = 14 (Decimal)"
   ]
  },
  {
   "cell_type": "code",
   "execution_count": null,
   "metadata": {
    "colab": {
     "base_uri": "https://localhost:8080/"
    },
    "id": "en7HerFERa5o",
    "outputId": "dae6160a-762f-4c20-ed9f-32ce41647926"
   },
   "outputs": [
    {
     "name": "stdout",
     "output_type": "stream",
     "text": [
      "a & b = 0\n",
      "a | b = 14\n",
      "a ^ b = 14\n"
     ]
    }
   ],
   "source": [
    "a = 10\n",
    "b = 4\n",
    "\n",
    "print(\"a & b =\", a & b)# Print bitwise AND operation\n",
    "\n",
    "print(\"a | b =\", a | b)# Print bitwise OR operation\n",
    "\n",
    "print(\"a ^ b =\", a ^ b)# print bitwise XOR operation"
   ]
  },
  {
   "cell_type": "markdown",
   "metadata": {
    "id": "Zrba63MmRrgc"
   },
   "source": [
    "## 5.5) Membership operators"
   ]
  },
  {
   "cell_type": "code",
   "execution_count": null,
   "metadata": {
    "colab": {
     "base_uri": "https://localhost:8080/"
    },
    "id": "K3nbUhKERrgc",
    "outputId": "19355d50-6343-408a-d26f-9570af769eca"
   },
   "outputs": [
    {
     "name": "stdout",
     "output_type": "stream",
     "text": [
      "True\n",
      "False\n",
      "True\n"
     ]
    }
   ],
   "source": [
    "# Membership Operators\n",
    "\n",
    "print('str' in 'string')\n",
    "print('not' in 'convenient')\n",
    "print('not' not in 'convenient')"
   ]
  },
  {
   "cell_type": "markdown",
   "metadata": {
    "id": "quzwRLZ7fHOP"
   },
   "source": [
    "## 6) Conditional statements: if-elif-else"
   ]
  },
  {
   "cell_type": "code",
   "execution_count": null,
   "metadata": {
    "id": "r_M9x2vtfHOX"
   },
   "outputs": [],
   "source": [
    "# General structure\n",
    "\n",
    "# if condition1:\n",
    "#     statement(s)\n",
    "\n",
    "# elif condition2:\n",
    "#     statement(s)\n",
    "\n",
    "# elif condition3:\n",
    "#     statement(s)\n",
    "\n",
    "# ...\n",
    "\n",
    "# elif conditionN:\n",
    "#     statement(s)\n",
    "\n",
    "# else:\n",
    "#     statement(s)"
   ]
  },
  {
   "cell_type": "code",
   "execution_count": null,
   "metadata": {
    "colab": {
     "base_uri": "https://localhost:8080/"
    },
    "id": "XUcU_N4ffHOZ",
    "outputId": "a0e4b275-72f7-4652-9722-4fcce0dd5f5f"
   },
   "outputs": [
    {
     "name": "stdout",
     "output_type": "stream",
     "text": [
      "a2 is greater\n"
     ]
    }
   ],
   "source": [
    "a1 = 5\n",
    "a2 = 10\n",
    "\n",
    "if a1 > a2:\n",
    "    print('a1 is greater')\n",
    "elif a1 < a2:\n",
    "    print('a2 is greater')\n",
    "elif True:\n",
    "    print('Why not have another elif')\n",
    "elif False:\n",
    "    print('Although these elifs make absolutely no sense')\n",
    "else:\n",
    "    print('a1 and a2 are equal')"
   ]
  },
  {
   "cell_type": "markdown",
   "metadata": {
    "id": "mVPbxpDVfHOa"
   },
   "source": [
    "<b> Exercise 2:</b> Write a program that takes an integer as input, and prints whether the number is odd or even.\n",
    "\n"
   ]
  },
  {
   "cell_type": "markdown",
   "metadata": {
    "id": "zI8Hvtz_fHOc"
   },
   "source": [
    "## 7) Python Rules\n",
    "<p>\n",
    "a) There are no braces {} in Python to demarcate blocks of code<br>\n",
    "b) indentation (whitespaces) demarcate blocks of code<br>\n",
    "c) Changes in indentation mark where a block begins, and where it ends<br>\n",
    "d) A common convention: 4 spaces (or 1 tab, which the editor converts to 4 spaces)<br>\n",
    "</p>"
   ]
  },
  {
   "cell_type": "code",
   "execution_count": null,
   "metadata": {
    "colab": {
     "base_uri": "https://localhost:8080/"
    },
    "id": "cTEkv-DDfHOd",
    "outputId": "d9ce14e6-0590-467c-f9f1-4952adcfa7d7"
   },
   "outputs": [
    {
     "name": "stdout",
     "output_type": "stream",
     "text": [
      "Yay\n"
     ]
    }
   ],
   "source": [
    "a1 = 10\n",
    "a2 = 20\n",
    "a3 = 30\n",
    "\n",
    "if a1 == 10:\n",
    "    if a2 == 20:\n",
    "        if a3 == 30:\n",
    "            print('Yay')\n",
    "        else:\n",
    "            print('Nay')\n",
    "    else:\n",
    "        print('Nay...')\n",
    "else:\n",
    "    print('Nayyyy...')"
   ]
  },
  {
   "cell_type": "markdown",
   "metadata": {
    "id": "XeJ9Z9mafHOd"
   },
   "source": [
    "## 8) Loops"
   ]
  },
  {
   "cell_type": "code",
   "execution_count": null,
   "metadata": {
    "id": "F5OIdvZtfHOe"
   },
   "outputs": [],
   "source": [
    "# 1. for loops\n",
    "\n",
    "# General Structure\n",
    "\n",
    "# for variable in iterator:\n",
    "#     statement(s)"
   ]
  },
  {
   "cell_type": "code",
   "execution_count": null,
   "metadata": {
    "colab": {
     "base_uri": "https://localhost:8080/"
    },
    "id": "KMKhxQiafHOf",
    "outputId": "ff7f9cd7-5074-422f-8316-8dc45f95da82"
   },
   "outputs": [
    {
     "name": "stdout",
     "output_type": "stream",
     "text": [
      "0\n",
      "1\n",
      "2\n",
      "3\n",
      "4\n",
      "5\n"
     ]
    }
   ],
   "source": [
    "# range(t) : goes from 0 to t-1\n",
    "\n",
    "for i in range(6): # [0, 1, 2, 3, 4, 5]\n",
    "    print(i)"
   ]
  },
  {
   "cell_type": "code",
   "execution_count": null,
   "metadata": {
    "colab": {
     "base_uri": "https://localhost:8080/"
    },
    "id": "v45RmOUjfHOg",
    "outputId": "efe3c14f-64e0-4d30-bbd0-a022002fc2b3"
   },
   "outputs": [
    {
     "name": "stdout",
     "output_type": "stream",
     "text": [
      "0\n",
      "1\n",
      "2\n",
      "3\n",
      "4\n",
      "5\n"
     ]
    }
   ],
   "source": [
    "# range(start, end)\n",
    "\n",
    "for i in range(0,5+1):\n",
    "    print(i)"
   ]
  },
  {
   "cell_type": "code",
   "execution_count": null,
   "metadata": {
    "colab": {
     "base_uri": "https://localhost:8080/"
    },
    "id": "vLHmpcwkfHOg",
    "outputId": "97d3fa82-c6a2-4f12-8fee-d979f81138ff"
   },
   "outputs": [
    {
     "name": "stdout",
     "output_type": "stream",
     "text": [
      "5\n",
      "6\n",
      "7\n",
      "8\n",
      "9\n"
     ]
    }
   ],
   "source": [
    "for i in range(5,10):\n",
    "    print(i)"
   ]
  },
  {
   "cell_type": "code",
   "execution_count": null,
   "metadata": {
    "colab": {
     "base_uri": "https://localhost:8080/"
    },
    "id": "eQtkyfuYfHOh",
    "outputId": "84f52100-2464-4824-df06-a1e5d2ae55e8"
   },
   "outputs": [
    {
     "name": "stdout",
     "output_type": "stream",
     "text": [
      "0\n",
      "2\n",
      "4\n",
      "6\n",
      "8\n"
     ]
    }
   ],
   "source": [
    "# range(start, end, steps)\n",
    "for i in range(0,10,2):\n",
    "    print(i)"
   ]
  },
  {
   "cell_type": "code",
   "execution_count": null,
   "metadata": {
    "colab": {
     "base_uri": "https://localhost:8080/"
    },
    "id": "PfhqZxzJfHOh",
    "outputId": "5d56b597-4078-45ad-cbe0-cde3b01b8ff5"
   },
   "outputs": [
    {
     "name": "stdout",
     "output_type": "stream",
     "text": [
      "10\n",
      "8\n",
      "6\n",
      "4\n",
      "2\n"
     ]
    }
   ],
   "source": [
    "# Opposite step direction\n",
    "\n",
    "for i in range(10,0,-2):\n",
    "    print(i)"
   ]
  },
  {
   "cell_type": "code",
   "execution_count": null,
   "metadata": {
    "colab": {
     "base_uri": "https://localhost:8080/"
    },
    "id": "23NY2HHPfHOi",
    "outputId": "cd439d00-585b-4324-c758-19ac8f1f58f8"
   },
   "outputs": [
    {
     "name": "stdout",
     "output_type": "stream",
     "text": [
      "a\n",
      "b\n",
      "c\n",
      "d\n",
      "e\n",
      "f\n",
      "g\n"
     ]
    }
   ],
   "source": [
    "# Iterate over strings\n",
    "\n",
    "str1 = 'abcdefg'\n",
    "\n",
    "for i in str1:\n",
    "    print(i)"
   ]
  },
  {
   "cell_type": "code",
   "execution_count": null,
   "metadata": {
    "id": "yJT9S3RFfHOj"
   },
   "outputs": [],
   "source": [
    "# 2. while loops\n",
    "\n",
    "# General Structure\n",
    "\n",
    "# while condition:\n",
    "#     statement(s)"
   ]
  },
  {
   "cell_type": "code",
   "execution_count": null,
   "metadata": {
    "colab": {
     "base_uri": "https://localhost:8080/"
    },
    "id": "j-o-v9qqfHOj",
    "outputId": "2d36fb71-1063-4146-d44c-53632c8dc408"
   },
   "outputs": [
    {
     "name": "stdout",
     "output_type": "stream",
     "text": [
      "0\n",
      "2\n",
      "4\n",
      "6\n",
      "8\n"
     ]
    }
   ],
   "source": [
    "i = 0\n",
    "\n",
    "while i < 10:\n",
    "    print(i)\n",
    "    i += 2"
   ]
  },
  {
   "cell_type": "markdown",
   "metadata": {
    "id": "TJ0WIpj0Rrgd"
   },
   "source": [
    "<p><h2>References</h2></p>\n",
    "<p>\n",
    "a) Learning Python: Powerful Object-Oriented Programming  by Mark Lutz <br>\n",
    "b) https://docs.python.org/3/tutorial/  <br>\n",
    "</p>"
   ]
  }
 ],
 "metadata": {
  "colab": {
   "provenance": []
  },
  "kernelspec": {
   "display_name": "Python 3 (ipykernel)",
   "language": "python",
   "name": "python3"
  },
  "language_info": {
   "codemirror_mode": {
    "name": "ipython",
    "version": 3
   },
   "file_extension": ".py",
   "mimetype": "text/x-python",
   "name": "python",
   "nbconvert_exporter": "python",
   "pygments_lexer": "ipython3",
   "version": "3.10.9"
  }
 },
 "nbformat": 4,
 "nbformat_minor": 1
}
