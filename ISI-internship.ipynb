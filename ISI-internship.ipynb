{
 "cells": [
  {
   "cell_type": "code",
   "execution_count": 1,
   "id": "433670d6",
   "metadata": {},
   "outputs": [],
   "source": [
    "import numpy as np"
   ]
  },
  {
   "cell_type": "markdown",
   "id": "e2c1cc11",
   "metadata": {},
   "source": [
    "### Problem 1: Find Minimum and Maximum in Array"
   ]
  },
  {
   "cell_type": "code",
   "execution_count": 3,
   "id": "553ee65f",
   "metadata": {},
   "outputs": [
    {
     "name": "stdout",
     "output_type": "stream",
     "text": [
      "8\n",
      "1\n"
     ]
    }
   ],
   "source": [
    "def maxmin(arr):\n",
    "    max_val = arr[0]\n",
    "    min_val = arr[0]\n",
    "    for i in range(1,len(arr)):\n",
    "        if max_val < arr[i]:\n",
    "            max_val = arr[i]\n",
    "        if min_val > arr[i]:\n",
    "            min_val = arr[i]\n",
    "    print(max_val)\n",
    "    print(min_val)\n",
    "    \n",
    "maxmin([1,6,4,5,8])"
   ]
  },
  {
   "cell_type": "markdown",
   "id": "bcfd50ab",
   "metadata": {},
   "source": [
    "### Problem 2: Remove Duplicates from Sorted Array"
   ]
  },
  {
   "cell_type": "code",
   "execution_count": 12,
   "id": "ad78f4e0",
   "metadata": {},
   "outputs": [
    {
     "name": "stdout",
     "output_type": "stream",
     "text": [
      "[1, 2, 3, 4, 5, 6, 7]\n"
     ]
    }
   ],
   "source": [
    "def remove(arr):\n",
    "    k = 1\n",
    "    for i in range (1,len(arr)):\n",
    "        if arr[i] != arr[i-1]:\n",
    "            arr[k] = arr[i]\n",
    "            k=k+1\n",
    "    print(arr[0:k])\n",
    "    \n",
    "remove([1,1,1,2,2,3,4,5,6,7,7,7])\n",
    "            \n",
    "            "
   ]
  },
  {
   "cell_type": "markdown",
   "id": "83989905",
   "metadata": {},
   "source": [
    "### Problem 3: Matrix Transposition"
   ]
  },
  {
   "cell_type": "code",
   "execution_count": 28,
   "id": "9fbecb45",
   "metadata": {},
   "outputs": [
    {
     "name": "stdout",
     "output_type": "stream",
     "text": [
      "original matrix \n",
      " [[1 2 3]\n",
      " [4 5 6]\n",
      " [7 8 9]]\n",
      "transpose \n",
      " [[1 4 7]\n",
      " [2 5 8]\n",
      " [3 6 9]]\n"
     ]
    }
   ],
   "source": [
    "def transpose(arr):\n",
    "    return arr.T\n",
    "    \n",
    "mat= np.array([[1,2,3],[4,5,6],[7,8,9]])\n",
    "print(f\"original matrix \\n {mat}\")\n",
    "transposed_mat = transpose(mat)\n",
    "print(f\"transpose \\n {transposed_mat}\")\n",
    "    "
   ]
  },
  {
   "cell_type": "markdown",
   "id": "02cfbf4e",
   "metadata": {},
   "source": [
    "### Problem 4: Fibonacci Sequence"
   ]
  },
  {
   "cell_type": "code",
   "execution_count": 32,
   "id": "aa9c301e",
   "metadata": {},
   "outputs": [
    {
     "data": {
      "text/plain": [
       "[0, 1, 1, 2, 3, 5, 8, 13]"
      ]
     },
     "execution_count": 32,
     "metadata": {},
     "output_type": "execute_result"
    }
   ],
   "source": [
    "def fibonacci(n):\n",
    "    fib = [0,1]\n",
    "    while len(fib) < n:\n",
    "        fib.append(fib[-1] + fib[-2])\n",
    "    return fib\n",
    "    \n",
    "    \n",
    "fibonacci(8)"
   ]
  },
  {
   "cell_type": "code",
   "execution_count": 33,
   "id": "fcb0483e",
   "metadata": {},
   "outputs": [
    {
     "data": {
      "text/plain": [
       "[0, 1, 1, 2, 3, 5, 8, 13]"
      ]
     },
     "execution_count": 33,
     "metadata": {},
     "output_type": "execute_result"
    }
   ],
   "source": [
    "def fibonacci(n):\n",
    "    fib = [0,1]\n",
    "    for i in range(2,n):\n",
    "        fib.append(fib[-1] + fib[-2])\n",
    "    return fib\n",
    "    \n",
    "    \n",
    "fibonacci(8)"
   ]
  },
  {
   "cell_type": "markdown",
   "id": "6fbd96dd",
   "metadata": {},
   "source": [
    "### Problem 5: Two sum"
   ]
  },
  {
   "cell_type": "code",
   "execution_count": 37,
   "id": "d1121914",
   "metadata": {},
   "outputs": [
    {
     "data": {
      "text/plain": [
       "True"
      ]
     },
     "execution_count": 37,
     "metadata": {},
     "output_type": "execute_result"
    }
   ],
   "source": [
    "def two_sum(arr, x):\n",
    "    for i in range(len(arr)-1):\n",
    "        for j in range(i+1,len(arr)):\n",
    "            if x-arr[i] == arr[j]:\n",
    "                return True\n",
    "    return False\n",
    "\n",
    "two_sum([1,2,5,6,3],11)"
   ]
  },
  {
   "cell_type": "code",
   "execution_count": 5,
   "id": "b078a3a0",
   "metadata": {},
   "outputs": [
    {
     "data": {
      "text/plain": [
       "True"
      ]
     },
     "execution_count": 5,
     "metadata": {},
     "output_type": "execute_result"
    }
   ],
   "source": [
    "def two_sum1(arr,x):\n",
    "    i=0\n",
    "    j = len(arr)-1\n",
    "    arr.sort()\n",
    "    while (i<j):\n",
    "        sum = arr[i]+arr[j]\n",
    "        if (sum<x):\n",
    "            i=i+1\n",
    "        elif (sum>x):\n",
    "            j=j-1\n",
    "        else:\n",
    "            return True\n",
    "    return False\n",
    "\n",
    "two_sum1([1,2,5,6,3],11)"
   ]
  },
  {
   "cell_type": "code",
   "execution_count": 6,
   "id": "d0d94898",
   "metadata": {},
   "outputs": [
    {
     "data": {
      "text/plain": [
       "False"
      ]
     },
     "execution_count": 6,
     "metadata": {},
     "output_type": "execute_result"
    }
   ],
   "source": [
    "two_sum1([1,2,5,6,3],12)"
   ]
  },
  {
   "cell_type": "code",
   "execution_count": 38,
   "id": "ae91da68",
   "metadata": {},
   "outputs": [
    {
     "data": {
      "text/plain": [
       "False"
      ]
     },
     "execution_count": 38,
     "metadata": {},
     "output_type": "execute_result"
    }
   ],
   "source": [
    "two_sum([1,2,5,6,3],12)"
   ]
  },
  {
   "cell_type": "markdown",
   "id": "fc2a60e4",
   "metadata": {},
   "source": [
    "### Problem 6: Double-base Palindromes: \n",
    "The decimal number, 58510=10010010012 (binary), is palindromic in both base 10 and base 2. Find the sum of all four digit numbers, which are palindromic in base 10 and base 2. Note that both in base 10 and base 2, the palindromic number, should not\n",
    "include leading zeros."
   ]
  },
  {
   "cell_type": "code",
   "execution_count": 17,
   "id": "3200c90b",
   "metadata": {},
   "outputs": [],
   "source": [
    "import time"
   ]
  },
  {
   "cell_type": "code",
   "execution_count": 8,
   "id": "10631bff",
   "metadata": {},
   "outputs": [
    {
     "data": {
      "text/plain": [
       "True"
      ]
     },
     "execution_count": 8,
     "metadata": {},
     "output_type": "execute_result"
    }
   ],
   "source": [
    "def int_palin(n):\n",
    "    sum = 0\n",
    "    i=n\n",
    "    while i>0:\n",
    "        dig = i%10\n",
    "        sum = sum*10 + dig\n",
    "        i=i//10\n",
    "    if sum == n:\n",
    "        return True\n",
    "    else:\n",
    "        return False\n",
    "\n",
    "int_palin(111)"
   ]
  },
  {
   "cell_type": "code",
   "execution_count": 9,
   "id": "9875a754",
   "metadata": {},
   "outputs": [
    {
     "data": {
      "text/plain": [
       "True"
      ]
     },
     "execution_count": 9,
     "metadata": {},
     "output_type": "execute_result"
    }
   ],
   "source": [
    "def bool_palin(n):\n",
    "    num = bin(n)[2:]\n",
    "    if num == num[::-1]: #slicing\n",
    "        return True\n",
    "    return False\n",
    "\n",
    "bool_palin(63)"
   ]
  },
  {
   "cell_type": "code",
   "execution_count": 36,
   "id": "a89cfd4b",
   "metadata": {},
   "outputs": [
    {
     "name": "stdout",
     "output_type": "stream",
     "text": [
      "7447\n",
      "9009\n",
      "0.023032426834106445\n"
     ]
    },
    {
     "data": {
      "text/plain": [
       "16456"
      ]
     },
     "execution_count": 36,
     "metadata": {},
     "output_type": "execute_result"
    }
   ],
   "source": [
    "def check():\n",
    "    sum = 0\n",
    "    begin = time.time()\n",
    "    for i in range(1000,10000):\n",
    "        if int_palin(i) and bool_palin(i):\n",
    "            sum = sum + i\n",
    "            print(i)\n",
    "    end = time.time()\n",
    "    print(end-begin)\n",
    "    return sum\n",
    "\n",
    "check()"
   ]
  },
  {
   "cell_type": "code",
   "execution_count": 23,
   "id": "ecf4c123",
   "metadata": {},
   "outputs": [
    {
     "name": "stdout",
     "output_type": "stream",
     "text": [
      "0.015512704849243164\n"
     ]
    },
    {
     "data": {
      "text/plain": [
       "16456"
      ]
     },
     "execution_count": 23,
     "metadata": {},
     "output_type": "execute_result"
    }
   ],
   "source": [
    "def ispalin(n):\n",
    "    return n==n[::-1]\n",
    "\n",
    "def doublepalin():\n",
    "    begin=time.time()\n",
    "    sum=0\n",
    "    for i in range (1000,10000):\n",
    "        if ispalin(str(i)) and ispalin(bin(i)[2:]):\n",
    "            sum = sum + i\n",
    "    end = time.time()\n",
    "    print(end-begin)\n",
    "    return sum\n",
    "\n",
    "t=doublepalin()\n",
    "t"
   ]
  },
  {
   "cell_type": "code",
   "execution_count": null,
   "id": "853670b5",
   "metadata": {},
   "outputs": [],
   "source": [
    "#list comprehension will simplify this\n",
    "#will implement conversion on all the elements at once"
   ]
  }
 ],
 "metadata": {
  "kernelspec": {
   "display_name": "Python 3 (ipykernel)",
   "language": "python",
   "name": "python3"
  },
  "language_info": {
   "codemirror_mode": {
    "name": "ipython",
    "version": 3
   },
   "file_extension": ".py",
   "mimetype": "text/x-python",
   "name": "python",
   "nbconvert_exporter": "python",
   "pygments_lexer": "ipython3",
   "version": "3.10.9"
  }
 },
 "nbformat": 4,
 "nbformat_minor": 5
}
